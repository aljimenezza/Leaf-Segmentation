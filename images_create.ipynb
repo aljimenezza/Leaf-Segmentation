{
 "cells": [
  {
   "cell_type": "code",
   "execution_count": null,
   "metadata": {},
   "outputs": [],
   "source": [
    "# Se importan las librerías necesarias \n",
    "\n",
    "import matplotlib.pyplot as plt \n",
    "import matplotlib.image as mpimg\n",
    "import numpy as np\n",
    "from PIL import Image\n",
    "import cv2\n",
    "import os\n",
    "from skimage.io import imread\n",
    "import skimage.filters as filters\n",
    "import os\n",
    "from os import listdir\n",
    "\n",
    "def plot(imagen,color='black',title=None,cmapa='gray',pic = False,subplot  = (1,1,1),vmin = 0, vmax = 255):\n",
    "    if pic == True:\n",
    "        plt.figure(figsize=(15,8))\n",
    "    plt.subplot(subplot[0],subplot[1],subplot[2])\n",
    "    plt.axis('off')\n",
    "    plt.imshow(imagen,cmap = cmapa,vmin = vmin, vmax = vmax)\n",
    "    plt.title(title,color = color)\n",
    "\n",
    "def load_gray_image(image_path):\n",
    "    \n",
    "    coloured_image = cv2.imread(image_path)\n",
    "    gray_image = cv2.cvtColor(coloured_image, cv2.COLOR_BGR2GRAY)\n",
    "    return gray_image\n",
    "\n",
    "def plot_img_hist (image,title,subrows,subcols,num,size1,size2):\n",
    "    fig = plt.figure(figsize=(size1,size2))\n",
    "    plt.subplot(subrows,subcols,num)\n",
    "    plt.imshow(image,cmap='gray');plt.title(title)\n",
    "    color = ('r','g','b')\n",
    "    plt.subplot(subrows,subcols,num+1)\n",
    "    plt.title(\" Histograma \" + title)\n",
    "\n",
    "    if len(image.shape) > 2 :            \n",
    "        for i,col in enumerate(color):\n",
    "            histr = cv2.calcHist([image],[i],None,[256],[0,256])\n",
    "            plt.plot(histr,color = col)\n",
    "            plt.xlim([0,256])\n",
    "    else:\n",
    "        hist,bins = np.histogram(image.ravel(),256,[0,256])\n",
    "        plt.plot(hist, color='gray' )\n",
    "        plt.xlim([0,256])\n",
    "\n",
    "def threshold(img,tipo,t):\n",
    "    _ , image = cv2.threshold(img,t,255,tipo)\n",
    "    lista = {0:'THRESH_BINARY',\n",
    "             1:'THRESH_BINARY_INV',\n",
    "             2:'THRESH_TRUNC',\n",
    "             3:'THRESH_TOZERO',\n",
    "             4:'THRESH_TOZERO_INV',\n",
    "             8:'THRESH_OTSU',\n",
    "             16:'THRESH_TRIANGLE',\n",
    "             7:'THRESH_MASK'    }\n",
    "    plot(image, pic = True,subplot = (1,2,2),title = 'Imagen binarizada con tipo de umbralización {}.'.format(lista[tipo]))\n",
    "    plot(img,subplot = (1,2,1), title= f'Imagen filtrada')\n",
    "    return _"
   ]
  },
  {
   "cell_type": "code",
   "execution_count": null,
   "metadata": {},
   "outputs": [],
   "source": [
    "# Rojo\n",
    "abc_r = (1,0,0)\n",
    "# Verde\n",
    "abc_g = (0,1,0)\n",
    "# Azul\n",
    "abc_b = (0,0,1)\n",
    "\n",
    "files = listdir('DataSet/train')\n",
    "print(files[0:20])"
   ]
  },
  {
   "cell_type": "code",
   "execution_count": null,
   "metadata": {},
   "outputs": [],
   "source": [
    "files = listdir('DataSet/train')\n",
    "print(files[0:20])\n",
    "for name in files:\n",
    "    img_or = cv2.cvtColor(cv2.imread(f'DataSet/train/{name}'), cv2.COLOR_BGR2RGB)\n",
    "    imagen_r = np.dot(img_or,abc_r)\n",
    "    imagen_g = np.dot(img_or,abc_g)\n",
    "    imagen_b = np.dot(img_or,abc_b)\n",
    "    cv2.imwrite(f'DataSet/Canales/R/{name}',imagen_r)\n",
    "    cv2.imwrite(f'DataSet/Canales/G/{name}',imagen_g)\n",
    "    cv2.imwrite(f'DataSet/Canales/B/{name}',imagen_b)"
   ]
  },
  {
   "cell_type": "code",
   "execution_count": null,
   "metadata": {},
   "outputs": [],
   "source": [
    "for name in files[0:30]:\n",
    "        img_or = cv2.imread(f'DataSet/train/{name}')\n",
    "        plot_img_hist(img_or,f'{name}',1,2,1,10,5)\n",
    "        plt.savefig(f'DataSet/Histograms/{name}')\n",
    "        plt.close()"
   ]
  }
 ],
 "metadata": {
  "kernelspec": {
   "display_name": "Python 3 (ipykernel)",
   "language": "python",
   "name": "python3"
  },
  "language_info": {
   "codemirror_mode": {
    "name": "ipython",
    "version": 3
   },
   "file_extension": ".py",
   "mimetype": "text/x-python",
   "name": "python",
   "nbconvert_exporter": "python",
   "pygments_lexer": "ipython3",
   "version": "3.10.5"
  }
 },
 "nbformat": 4,
 "nbformat_minor": 4
}
