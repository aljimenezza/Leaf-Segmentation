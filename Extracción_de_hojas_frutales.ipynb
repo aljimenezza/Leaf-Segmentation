{
 "cells": [
  {
   "cell_type": "markdown",
   "id": "06111d1e-50f8-4174-9dbd-019372e5e7ab",
   "metadata": {},
   "source": [
    "# Extracción de hojas frutales"
   ]
  },
  {
   "cell_type": "markdown",
   "id": "f6853614-0540-4366-a743-651033cdcaaf",
   "metadata": {},
   "source": [
    "## Librerias:"
   ]
  },
  {
   "cell_type": "markdown",
   "id": "82cad0a2-a5cf-447a-98af-8e49a2b01e16",
   "metadata": {},
   "source": [
    "Tratamiento de matrices:"
   ]
  },
  {
   "cell_type": "code",
   "execution_count": 4,
   "id": "45c98f69-a0e5-46b6-8e23-a36d478a3b4d",
   "metadata": {},
   "outputs": [],
   "source": [
    "import numpy as np"
   ]
  },
  {
   "cell_type": "markdown",
   "id": "970f53bc-5415-436f-b682-54ff5e0c4a16",
   "metadata": {},
   "source": [
    "Tratamiento de archivos:"
   ]
  },
  {
   "cell_type": "markdown",
   "id": "49a3e8c2",
   "metadata": {},
   "source": [
    "- Se utiliza para leer archivos y manipular rutas de almacenamiento"
   ]
  },
  {
   "cell_type": "code",
   "execution_count": 7,
   "id": "cc54d6bb-5c05-43d1-9d50-6d98700e49be",
   "metadata": {},
   "outputs": [],
   "source": [
    "import os\n",
    "from os import listdir"
   ]
  },
  {
   "cell_type": "markdown",
   "id": "38a4f982-19f1-4bc6-bc5d-3e9f5a8317a4",
   "metadata": {},
   "source": [
    "Tratamiento de imagenes:"
   ]
  },
  {
   "cell_type": "markdown",
   "id": "28ef544f",
   "metadata": {},
   "source": [
    "- PIL permite la edicón de imagenes directo desde Python y soporta variedad de formatos. incluidos los mas usados como GIF, JPEG y NPG.\n",
    "\n",
    "- Skimage es una colección de algoritmospara procesamiento de imagenes y visión por computadora.\n",
    "- Skimage.io Lee, guarda, y muestra imagenes y video.\n",
    "- Skimage.filters busca bordes y filtra rangos.\n",
    "- Skimage.morphology usa operaciones morfologicas por ejemplo apertura o esqueletización.\n",
    "- cv2 u opencv se usa para la detección de objetos en fotografias."
   ]
  },
  {
   "cell_type": "code",
   "execution_count": 9,
   "id": "8e8de6ca-dae3-4af1-9797-e0e8556779ed",
   "metadata": {},
   "outputs": [],
   "source": [
    "from PIL import Image\n",
    "from skimage.io import imread\n",
    "import skimage.filters as filters\n",
    "import cv2\n",
    "import skimage.morphology as morph\n",
    "import skimage\n",
    "import skimage.io"
   ]
  },
  {
   "cell_type": "markdown",
   "id": "576d2ec6-cecc-4863-bcbd-33265c488701",
   "metadata": {},
   "source": [
    "Generación de imagenes:"
   ]
  },
  {
   "cell_type": "markdown",
   "id": "10d172af",
   "metadata": {},
   "source": [
    "- matplotlib.pyplot es una libreria especializada en la creación de gráficos en dos dimensiones\n",
    "\n",
    "- matploblib.image soporta carga de imagenes y reescalado"
   ]
  },
  {
   "cell_type": "code",
   "execution_count": 12,
   "id": "57042cdd-e164-4f7d-abfa-7504a9d146a6",
   "metadata": {},
   "outputs": [],
   "source": [
    "import matplotlib.pyplot as plt \n",
    "import matplotlib.image as mpimg"
   ]
  },
  {
   "cell_type": "markdown",
   "id": "9b278e6f-1a32-4a9b-845d-bc908409e508",
   "metadata": {},
   "source": [
    "Especializados en imagenes de plantas:"
   ]
  },
  {
   "cell_type": "markdown",
   "id": "f800aeac",
   "metadata": {},
   "source": [
    "- Plantcv en un paquete de software de analisis de código abierto destinado a la determinación del fenotipo de las plantas, se usó para crear imagenes binarias de bordes a partir de una imagen RGB o en escala de grises, utilizando un filtro cany de skimage,"
   ]
  },
  {
   "cell_type": "code",
   "execution_count": 15,
   "id": "c94f53d1-f360-45bb-a4fa-cd5cf7e04519",
   "metadata": {},
   "outputs": [],
   "source": [
    "from plantcv import plantcv as pcv"
   ]
  },
  {
   "cell_type": "markdown",
   "id": "88c16813-7072-4698-99c0-962d45e9c79d",
   "metadata": {},
   "source": [
    "## Funciones miscelanias"
   ]
  },
  {
   "cell_type": "markdown",
   "id": "1cf9e2ad-c0bb-4ccb-91d4-1df635bb7a32",
   "metadata": {},
   "source": [
    "Graficar imagenes:"
   ]
  },
  {
   "cell_type": "code",
   "execution_count": 16,
   "id": "289de951-3d25-4f88-ad51-b08b979d6300",
   "metadata": {},
   "outputs": [],
   "source": [
    "def plot(imagen,color='black',title=None,cmapa='gray',pic = False,subplot  = (1,1,1),vmin = 0, vmax = 255):\n",
    "    if pic == True:\n",
    "        plt.figure(figsize=(15,8))\n",
    "    plt.subplot(subplot[0],subplot[1],subplot[2])\n",
    "    plt.axis('off')\n",
    "    plt.imshow(imagen,cmap = cmapa,vmin = vmin, vmax = vmax)\n",
    "    plt.title(title,color = color)"
   ]
  },
  {
   "cell_type": "markdown",
   "id": "68a0fef6-4981-4a5a-ab63-e637113407d6",
   "metadata": {},
   "source": [
    "Conversión a escala de grises:"
   ]
  },
  {
   "cell_type": "code",
   "execution_count": 17,
   "id": "a65a7043-0922-46be-978b-cbe02fd8e544",
   "metadata": {},
   "outputs": [],
   "source": [
    "def load_gray_image(image_path):\n",
    "    \n",
    "    coloured_image = cv2.imread(image_path)\n",
    "    gray_image = cv2.cvtColor(coloured_image, cv2.COLOR_BGR2GRAY)\n",
    "    return gray_image"
   ]
  },
  {
   "cell_type": "code",
   "execution_count": null,
   "id": "ca889374-e134-4803-b58c-5532767119e1",
   "metadata": {},
   "outputs": [],
   "source": [
    "h"
   ]
  }
 ],
 "metadata": {
  "kernelspec": {
   "display_name": "Python 3 (ipykernel)",
   "language": "python",
   "name": "python3"
  },
  "language_info": {
   "codemirror_mode": {
    "name": "ipython",
    "version": 3
   },
   "file_extension": ".py",
   "mimetype": "text/x-python",
   "name": "python",
   "nbconvert_exporter": "python",
   "pygments_lexer": "ipython3",
   "version": "3.10.5"
  }
 },
 "nbformat": 4,
 "nbformat_minor": 5
}
