{
 "cells": [
  {
   "cell_type": "markdown",
   "id": "06111d1e-50f8-4174-9dbd-019372e5e7ab",
   "metadata": {},
   "source": [
    "## Extracción de hojas frutales"
   ]
  },
  {
   "cell_type": "markdown",
   "id": "f6853614-0540-4366-a743-651033cdcaaf",
   "metadata": {},
   "source": [
    "Librerias:"
   ]
  },
  {
   "cell_type": "code",
   "execution_count": null,
   "id": "c94f53d1-f360-45bb-a4fa-cd5cf7e04519",
   "metadata": {},
   "outputs": [],
   "source": []
  }
 ],
 "metadata": {
  "kernelspec": {
   "display_name": "Python 3 (ipykernel)",
   "language": "python",
   "name": "python3"
  },
  "language_info": {
   "codemirror_mode": {
    "name": "ipython",
    "version": 3
   },
   "file_extension": ".py",
   "mimetype": "text/x-python",
   "name": "python",
   "nbconvert_exporter": "python",
   "pygments_lexer": "ipython3",
   "version": "3.10.5"
  }
 },
 "nbformat": 4,
 "nbformat_minor": 5
}
