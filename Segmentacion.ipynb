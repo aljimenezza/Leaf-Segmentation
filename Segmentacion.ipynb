{
 "cells": [
  {
   "cell_type": "markdown",
   "metadata": {},
   "source": [
    "## Segmentación de hojas en plantas"
   ]
  },
  {
   "cell_type": "markdown",
   "metadata": {},
   "source": [
    "### Proyecto final - Visión artificial\n",
    "\n",
    "#### Integrantes: - \n",
    "#### - Rafael Angel Casalins\n",
    "#### - Alejandro Jiménez Zapata\n",
    "#### - \n",
    "#### - \n",
    "#### - Carlos Eduardo Ordoñez Bolañoz"
   ]
  },
  {
   "cell_type": "code",
   "execution_count": null,
   "metadata": {},
   "outputs": [],
   "source": [
    "import matplotlib.pyplot as plt \n",
    "import numpy as np\n",
    "from PIL import Image\n",
    "import cv2\n",
    "import cv2 as cv\n",
    "import os\n",
    "from skimage.io import imread\n",
    "import skimage.filters as filters\n",
    "\n",
    "def plot(imagen,color='black',title=None,cmapa='gray',pic = False,subplot  = (1,1,1),vmin = 0, vmax = 255):\n",
    "    if pic == True:\n",
    "        plt.figure(figsize=(15,8))\n",
    "    plt.subplot(subplot[0],subplot[1],subplot[2])\n",
    "    plt.axis('off')\n",
    "    plt.imshow(imagen,cmap = cmapa,vmin = vmin, vmax = vmax)\n",
    "    plt.title(title,color = color)"
   ]
  }
 ],
 "metadata": {
  "language_info": {
   "name": "python"
  },
  "orig_nbformat": 4
 },
 "nbformat": 4,
 "nbformat_minor": 2
}
